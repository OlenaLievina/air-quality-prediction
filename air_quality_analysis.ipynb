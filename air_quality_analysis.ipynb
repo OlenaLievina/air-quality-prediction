{
 "cells": [
  {
   "cell_type": "code",
   "execution_count": 67,
   "id": "a2290a7d",
   "metadata": {},
   "outputs": [],
   "source": [
    "import os\n",
    "import urllib.request\n",
    "import pandas as pd\n",
    "import numpy as np\n",
    "from pandas.plotting import scatter_matrix\n",
    "from sklearn.model_selection import train_test_split\n",
    "from sklearn.pipeline import Pipeline\n",
    "from sklearn.impute import SimpleImputer\n",
    "from sklearn.preprocessing import StandardScaler\n",
    "from sklearn.compose import ColumnTransformer\n",
    "\n",
    "DOWNLOAD_ROOT = 'https://raw.githubusercontent.com/asharvi1/UCI-Air-Quality-Data/master/'\n",
    "AIR_QUALITY_URL = DOWNLOAD_ROOT + 'AirQualityUCI.csv'\n",
    "AIR_QUALITY_DATA_DIR = os.path.join('data', 'air_quality_data')"
   ]
  },
  {
   "cell_type": "code",
   "execution_count": 75,
   "id": "e1bae3b8",
   "metadata": {},
   "outputs": [],
   "source": [
    "def get_air_quality_data(air_quality_url=AIR_QUALITY_URL, aq_data_dir=AIR_QUALITY_DATA_DIR):\n",
    "    full_csv_path = os.path.join(aq_data_dir, 'AirQualityUCI.csv')\n",
    "    if not os.path.exists(full_csv_path):\n",
    "        os.makedirs(aq_data_dir, exist_ok=True)\n",
    "        urllib.request.urlretrieve(air_quality_url, full_csv_path)\n",
    "    return pd.read_csv(full_csv_path, sep=';', decimal=',', usecols=range(15))\n",
    "\n",
    "def get_air_quality_clean_data(df=None):\n",
    "    if df is None:\n",
    "        df = get_air_quality_data()\n",
    "    df.replace(-200, np.nan, inplace=True)\n",
    "    df.dropna(how='all', inplace=True)\n",
    "    if 'NMHC(GT)' in df:\n",
    "        df.drop('NMHC(GT)', axis=1, inplace=True)\n",
    "    return df\n",
    "    \n",
    "air_quality = get_air_quality_clean_data()"
   ]
  },
  {
   "cell_type": "code",
   "execution_count": 76,
   "id": "1f65bc0e",
   "metadata": {},
   "outputs": [],
   "source": [
    "target = 'C6H6(GT)'\n",
    "X = air_quality.drop(target, axis=1)\n",
    "y = air_quality[target]\n",
    "X_train, X_test, y_train, y_test = train_test_split(X, y, test_size=0.2, random_state=42)\n",
    "air_quality = X_train.copy()"
   ]
  },
  {
   "cell_type": "code",
   "execution_count": 77,
   "id": "e3fdbf3a",
   "metadata": {},
   "outputs": [],
   "source": [
    "num_pipeline = Pipeline([\n",
    "    ('imputer', SimpleImputer(strategy='median')),\n",
    "    ('scaler', StandardScaler())\n",
    "])\n",
    "\n",
    "air_quality_num_columns = air_quality.drop(['Date', 'Time'], axis=1)\n",
    "\n",
    "full_pipeline = ColumnTransformer([\n",
    "\t('num', num_pipeline, air_quality_num_columns)\n",
    "])"
   ]
  }
 ],
 "metadata": {
  "kernelspec": {
   "display_name": "base",
   "language": "python",
   "name": "python3"
  },
  "language_info": {
   "codemirror_mode": {
    "name": "ipython",
    "version": 3
   },
   "file_extension": ".py",
   "mimetype": "text/x-python",
   "name": "python",
   "nbconvert_exporter": "python",
   "pygments_lexer": "ipython3",
   "version": "3.12.7"
  }
 },
 "nbformat": 4,
 "nbformat_minor": 5
}
