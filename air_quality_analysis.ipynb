{
 "cells": [
  {
   "cell_type": "code",
   "execution_count": 135,
   "id": "a2290a7d",
   "metadata": {},
   "outputs": [],
   "source": [
    "import os\n",
    "import urllib.request\n",
    "import pandas as pd\n",
    "import numpy as np\n",
    "from pandas.plotting import scatter_matrix\n",
    "from sklearn.model_selection import train_test_split\n",
    "from sklearn.pipeline import Pipeline\n",
    "from sklearn.impute import SimpleImputer\n",
    "from sklearn.preprocessing import StandardScaler\n",
    "from sklearn.compose import ColumnTransformer\n",
    "from sklearn.base import BaseEstimator, TransformerMixin\n",
    "\n",
    "DOWNLOAD_ROOT = 'https://raw.githubusercontent.com/asharvi1/UCI-Air-Quality-Data/master/'\n",
    "AIR_QUALITY_URL = DOWNLOAD_ROOT + 'AirQualityUCI.csv'\n",
    "AIR_QUALITY_DATA_DIR = os.path.join('data', 'air_quality_data')"
   ]
  },
  {
   "cell_type": "code",
   "execution_count": null,
   "id": "e1bae3b8",
   "metadata": {},
   "outputs": [],
   "source": [
    "def get_air_quality_data(air_quality_url=AIR_QUALITY_URL, aq_data_dir=AIR_QUALITY_DATA_DIR):\n",
    "    full_csv_path = os.path.join(aq_data_dir, 'AirQualityUCI.csv')\n",
    "    if not os.path.exists(full_csv_path):\n",
    "        os.makedirs(aq_data_dir, exist_ok=True)\n",
    "        urllib.request.urlretrieve(air_quality_url, full_csv_path)\n",
    "    return pd.read_csv(full_csv_path, sep=';', decimal=',', usecols=range(15))\n",
    "\n",
    "def get_air_quality_clean_data(df=None):\n",
    "    if df is None:\n",
    "        df = get_air_quality_data()\n",
    "    df.replace(-200, np.nan, inplace=True)\n",
    "    sensor_columns = df.columns.difference(['Date', 'Time'])\n",
    "    df.dropna(subset=sensor_columns, how='all', inplace=True)\n",
    "    if 'NMHC(GT)' in df:\n",
    "        df.drop('NMHC(GT)', axis=1, inplace=True)\n",
    "    return df\n",
    "    \n",
    "air_quality = get_air_quality_clean_data()"
   ]
  },
  {
   "cell_type": "code",
   "execution_count": null,
   "id": "48d67701",
   "metadata": {},
   "outputs": [],
   "source": [
    "target = 'C6H6(GT)'\n",
    "X = air_quality.drop(target, axis=1)\n",
    "y = air_quality[target]\n",
    "X_train, X_test, y_train, y_test = train_test_split(X, y, test_size=0.2, random_state=42)"
   ]
  },
  {
   "cell_type": "code",
   "execution_count": null,
   "id": "d9c0bf32",
   "metadata": {},
   "outputs": [],
   "source": [
    "class DateTimeTransformer(BaseEstimator, TransformerMixin):\n",
    "    def __init__(self, use_day_of_year=True, use_year=True, use_day=True):\n",
    "        self.use_day_of_year = use_day_of_year\n",
    "        self.use_year = use_year\n",
    "        self.use_day = use_day\n",
    "\n",
    "    def fit(self, X, y=None):\n",
    "        return self\n",
    "\n",
    "    def transform(self, X, y=None):\n",
    "        datetime = pd.to_datetime(X['Date'] + ' ' + X['Time'], errors='coerce', format='%d/%m/%Y %H.%M.%S')\n",
    "        \n",
    "        features = {\n",
    "            'Month': datetime.dt.month,\n",
    "            'DayOfWeek': datetime.dt.dayofweek,\n",
    "            'Hour': datetime.dt.hour\n",
    "        }\n",
    "\n",
    "        if self.use_day_of_year:\n",
    "            features['DayOfYear'] = datetime.dt.dayofyear\n",
    "        if self.use_year:\n",
    "            features['Year'] = datetime.dt.year\n",
    "        if self.use_day:\n",
    "            features['Day'] = datetime.dt.day\n",
    "\n",
    "        return pd.DataFrame(features, index=X.index)"
   ]
  },
  {
   "cell_type": "code",
   "execution_count": null,
   "id": "e3fdbf3a",
   "metadata": {},
   "outputs": [],
   "source": [
    "num_pipeline = Pipeline([\n",
    "    ('imputer', SimpleImputer(strategy='median')),\n",
    "    ('scaler', StandardScaler())\n",
    "])\n",
    "\n",
    "dt_pipeline = Pipeline([\n",
    "\t('datetime', DateTimeTransformer()),\n",
    "\t('imputer', SimpleImputer(strategy='most_frequent')),\n",
    "\t('scaler', StandardScaler())\n",
    "])\n",
    "\n",
    "air_quality_num_columns = list(X.drop(['Date', 'Time'], axis=1).columns)\n",
    "air_quality_dt_columns = ['Date', 'Time']\n",
    "\n",
    "full_pipeline = ColumnTransformer([\n",
    "\t('num', num_pipeline, air_quality_num_columns),\n",
    "\t('dt', dt_pipeline, air_quality_dt_columns) \n",
    "])"
   ]
  }
 ],
 "metadata": {
  "kernelspec": {
   "display_name": "base",
   "language": "python",
   "name": "python3"
  },
  "language_info": {
   "codemirror_mode": {
    "name": "ipython",
    "version": 3
   },
   "file_extension": ".py",
   "mimetype": "text/x-python",
   "name": "python",
   "nbconvert_exporter": "python",
   "pygments_lexer": "ipython3",
   "version": "3.12.7"
  }
 },
 "nbformat": 4,
 "nbformat_minor": 5
}
